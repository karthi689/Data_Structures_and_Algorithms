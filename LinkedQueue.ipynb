{
 "cells": [
  {
   "cell_type": "code",
   "execution_count": 1,
   "metadata": {},
   "outputs": [],
   "source": [
    "#  The space usage is O(n), where n is the current number of elements in the queue.\n",
    "#  The time usage is O(1)  for push, pop, top, is_empty, and len.\n",
    "\n",
    "class Empty(Exception):\n",
    "    \"\"\"\n",
    "    Error attempting to access an element from an empty container.\n",
    "    \"\"\"\n",
    "    pass\n",
    "\n",
    "class LinkedQueue:\n",
    "    \"\"\"\n",
    "    FIFO Queue implementation using a singly linked list for storage.\n",
    "    \"\"\"\n",
    "    \n",
    "    #-------------------------- nested Node class --------------------------\n",
    "    class Node:\n",
    "        \"\"\"\n",
    "        Lightweight, nonpublic class for storing a singly linked node.\n",
    "        \"\"\"\n",
    "        __slots__ = 'element', 'next' # streamline memory usage\n",
    "        \n",
    "        \n",
    "        def __init__(self, element, next):\n",
    "            \"\"\"\n",
    "            initialize node’s fields.\n",
    "            \"\"\"\n",
    "            self.element = element      # reference to user’s element\n",
    "            self.next = next            # reference to next node\n",
    "            \n",
    "    #------------------------------- stack methods -------------------------------\n",
    "    def __init__(self):\n",
    "        \"\"\"\n",
    "        initialize your data structure here.\n",
    "        Create an empty queue.\n",
    "        \"\"\"\n",
    "        self.head = None      # reference to the head node\n",
    "        self.tail = None      # reference to the tail node\n",
    "        self.size = 0         # number of stack elements\n",
    "        \n",
    "    def __len__(self) -> int:\n",
    "        \"\"\"\n",
    "        Return the number of elements in the stack.\n",
    "        \"\"\"\n",
    "        return self.size\n",
    "\n",
    "    def is_empty(self) -> bool:\n",
    "        \"\"\"\n",
    "        Return True if the queue is empty.\n",
    "        \"\"\"\n",
    "        return self.size == 0    \n",
    "    \n",
    "    def enqueue(self, e: int) -> None:\n",
    "        \"\"\"\n",
    "        Add element e to the back of the queue.\n",
    "        \"\"\"\n",
    "        newest = self.Node(e, self.head) #  node will be new tail node\n",
    "        if self.is_empty():\n",
    "            self.head = newest\n",
    "        else:                            # special case: previously empty\n",
    "            self.tail.next = newest\n",
    "        self.tail = newest\n",
    "        self.size += 1                  # update reference to tail node\n",
    "\n",
    "    def first(self) -> int:\n",
    "        \"\"\"\n",
    "        Return (but do not remove) the element at the front of the queue.\n",
    "        Raise Empty exception if the queue is empty.\n",
    "        \"\"\"        \n",
    "        if self.is_empty():\n",
    "            raise Empty('Queue is empty')\n",
    "        return self.head.element     # front aligned with head of list\n",
    "    \n",
    "    \n",
    "    def dequeue(self) -> int:\n",
    "        \"\"\"\n",
    "        Remove and return the first element of the queue (i.e., FIFO).\n",
    "        Raise Empty exception if the stack is empty.\n",
    "        \"\"\"        \n",
    "        if self.is_empty():\n",
    "            raise Empty('Queue is empty')\n",
    "        \n",
    "        res = self.head.element\n",
    "        self.head = self.head.next     # bypass the former top node \n",
    "        self.size -= 1\n",
    "        if self.is_empty():            # special case as queue is empty\n",
    "            self.tail = None           # removed head had been the tail\n",
    "        return res    "
   ]
  },
  {
   "cell_type": "code",
   "execution_count": 2,
   "metadata": {},
   "outputs": [],
   "source": [
    "Q = LinkedQueue()"
   ]
  },
  {
   "cell_type": "code",
   "execution_count": 3,
   "metadata": {},
   "outputs": [],
   "source": [
    "Q.enqueue(5) \n",
    "Q.enqueue(3) "
   ]
  },
  {
   "cell_type": "code",
   "execution_count": 4,
   "metadata": {},
   "outputs": [
    {
     "data": {
      "text/plain": [
       "2"
      ]
     },
     "execution_count": 4,
     "metadata": {},
     "output_type": "execute_result"
    }
   ],
   "source": [
    "len(Q)"
   ]
  },
  {
   "cell_type": "code",
   "execution_count": 5,
   "metadata": {},
   "outputs": [
    {
     "data": {
      "text/plain": [
       "5"
      ]
     },
     "execution_count": 5,
     "metadata": {},
     "output_type": "execute_result"
    }
   ],
   "source": [
    "Q.dequeue( )"
   ]
  },
  {
   "cell_type": "code",
   "execution_count": 6,
   "metadata": {},
   "outputs": [
    {
     "data": {
      "text/plain": [
       "False"
      ]
     },
     "execution_count": 6,
     "metadata": {},
     "output_type": "execute_result"
    }
   ],
   "source": [
    "Q.is_empty( )"
   ]
  },
  {
   "cell_type": "code",
   "execution_count": 7,
   "metadata": {},
   "outputs": [
    {
     "data": {
      "text/plain": [
       "3"
      ]
     },
     "execution_count": 7,
     "metadata": {},
     "output_type": "execute_result"
    }
   ],
   "source": [
    "Q.dequeue( )"
   ]
  },
  {
   "cell_type": "code",
   "execution_count": 8,
   "metadata": {},
   "outputs": [
    {
     "data": {
      "text/plain": [
       "True"
      ]
     },
     "execution_count": 8,
     "metadata": {},
     "output_type": "execute_result"
    }
   ],
   "source": [
    "Q.is_empty( )"
   ]
  },
  {
   "cell_type": "code",
   "execution_count": 9,
   "metadata": {},
   "outputs": [],
   "source": [
    "Q.enqueue(8) \n",
    "Q.enqueue(0) "
   ]
  },
  {
   "cell_type": "code",
   "execution_count": 10,
   "metadata": {},
   "outputs": [
    {
     "data": {
      "text/plain": [
       "8"
      ]
     },
     "execution_count": 10,
     "metadata": {},
     "output_type": "execute_result"
    }
   ],
   "source": [
    "Q.first()"
   ]
  }
 ],
 "metadata": {
  "kernelspec": {
   "display_name": "Python 3",
   "language": "python",
   "name": "python3"
  },
  "language_info": {
   "codemirror_mode": {
    "name": "ipython",
    "version": 3
   },
   "file_extension": ".py",
   "mimetype": "text/x-python",
   "name": "python",
   "nbconvert_exporter": "python",
   "pygments_lexer": "ipython3",
   "version": "3.7.4"
  }
 },
 "nbformat": 4,
 "nbformat_minor": 2
}
