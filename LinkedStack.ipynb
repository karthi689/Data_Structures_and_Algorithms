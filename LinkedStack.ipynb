{
 "cells": [
  {
   "cell_type": "code",
   "execution_count": 1,
   "metadata": {},
   "outputs": [],
   "source": [
    "#  The space usage is O(n), where n is the current number of elements in the stack.\n",
    "#  The time usage is O(1)  for push, pop, top, is_empty, and len.\n",
    "\n",
    "class Empty(Exception):\n",
    "    \"\"\"\n",
    "    Error attempting to access an element from an empty container.\n",
    "    \"\"\"\n",
    "    pass\n",
    "\n",
    "class LinkedStack:\n",
    "    \"\"\"\n",
    "    LIFO Stack implementation using a singly linked list for storage.\n",
    "    \"\"\"\n",
    "    \n",
    "    #-------------------------- nested Node class --------------------------\n",
    "    class Node:\n",
    "        \"\"\"\n",
    "        Lightweight, nonpublic class for storing a singly linked node.\n",
    "        \"\"\"\n",
    "        __slots__ = 'element', 'next' # streamline memory usage\n",
    "        \n",
    "        \n",
    "        def __init__(self, element, next):\n",
    "            \"\"\"\n",
    "            initialize node’s fields.\n",
    "            \"\"\"\n",
    "            self.element = element      # reference to user’s element\n",
    "            self.next = next            # reference to next node\n",
    "            \n",
    "    #------------------------------- stack methods -------------------------------\n",
    "    def __init__(self):\n",
    "        \"\"\"\n",
    "        initialize your data structure here.\n",
    "        Create an empty stack.\n",
    "        \"\"\"\n",
    "        self.head = None      # reference to the head node\n",
    "        self.size = 0         # number of stack elements\n",
    "        \n",
    "    def __len__(self) -> int:\n",
    "        \"\"\"\n",
    "        Return the number of elements in the stack.\n",
    "        \"\"\"\n",
    "        return self.size\n",
    "\n",
    "    def is_empty(self) -> bool:\n",
    "        \"\"\"\n",
    "        Return True if the stack is empty.\n",
    "        \"\"\"\n",
    "        return self.size == 0    \n",
    "    \n",
    "    def push(self, e: int) -> None:\n",
    "        \"\"\"\n",
    "        Add element e to the top of the stack.\n",
    "        \"\"\"\n",
    "        self.head = self.Node(e, self.head) # create and link a new node\n",
    "        self.size += 1\n",
    "\n",
    "    def top(self) -> int:\n",
    "        \"\"\"\n",
    "        Return (but do not remove) the element at the top of the stack.\n",
    "        Raise Empty exception if the stack is empty.\n",
    "        \"\"\"        \n",
    "        if self.is_empty():\n",
    "            raise Empty('Stack is empty')\n",
    "        return self.head.element     # top of stack is at head of list\n",
    "    \n",
    "    \n",
    "    def pop(self) -> int:\n",
    "        \"\"\"\n",
    "        Remove and return the element from the top of the stack (i.e., LIFO).\n",
    "        Raise Empty exception if the stack is empty.\n",
    "        \"\"\"        \n",
    "        if self.is_empty():\n",
    "            raise Empty('Stack is empty')\n",
    "        \n",
    "        res = self.head.element\n",
    "        self.head = self.head.next     # bypass the former top node \n",
    "        self.size -= 1\n",
    "        return res    "
   ]
  },
  {
   "cell_type": "code",
   "execution_count": 2,
   "metadata": {},
   "outputs": [],
   "source": [
    "S = LinkedStack( )"
   ]
  },
  {
   "cell_type": "code",
   "execution_count": 3,
   "metadata": {},
   "outputs": [],
   "source": [
    "S.push(5)\n",
    "S.push(3)"
   ]
  },
  {
   "cell_type": "code",
   "execution_count": 4,
   "metadata": {},
   "outputs": [
    {
     "data": {
      "text/plain": [
       "2"
      ]
     },
     "execution_count": 4,
     "metadata": {},
     "output_type": "execute_result"
    }
   ],
   "source": [
    "len(S)"
   ]
  },
  {
   "cell_type": "code",
   "execution_count": 5,
   "metadata": {},
   "outputs": [
    {
     "data": {
      "text/plain": [
       "3"
      ]
     },
     "execution_count": 5,
     "metadata": {},
     "output_type": "execute_result"
    }
   ],
   "source": [
    "S.pop( )"
   ]
  },
  {
   "cell_type": "code",
   "execution_count": 6,
   "metadata": {},
   "outputs": [
    {
     "data": {
      "text/plain": [
       "False"
      ]
     },
     "execution_count": 6,
     "metadata": {},
     "output_type": "execute_result"
    }
   ],
   "source": [
    "S.is_empty()"
   ]
  },
  {
   "cell_type": "code",
   "execution_count": 7,
   "metadata": {},
   "outputs": [
    {
     "data": {
      "text/plain": [
       "5"
      ]
     },
     "execution_count": 7,
     "metadata": {},
     "output_type": "execute_result"
    }
   ],
   "source": [
    "S.pop( )"
   ]
  },
  {
   "cell_type": "code",
   "execution_count": 8,
   "metadata": {},
   "outputs": [
    {
     "data": {
      "text/plain": [
       "True"
      ]
     },
     "execution_count": 8,
     "metadata": {},
     "output_type": "execute_result"
    }
   ],
   "source": [
    "S.is_empty()"
   ]
  },
  {
   "cell_type": "code",
   "execution_count": 9,
   "metadata": {},
   "outputs": [
    {
     "data": {
      "text/plain": [
       "6"
      ]
     },
     "execution_count": 9,
     "metadata": {},
     "output_type": "execute_result"
    }
   ],
   "source": [
    "S.push(7)\n",
    "S.push(9)\n",
    "S.push(6)\n",
    "\n",
    "S.top( )"
   ]
  }
 ],
 "metadata": {
  "kernelspec": {
   "display_name": "Python 3",
   "language": "python",
   "name": "python3"
  },
  "language_info": {
   "codemirror_mode": {
    "name": "ipython",
    "version": 3
   },
   "file_extension": ".py",
   "mimetype": "text/x-python",
   "name": "python",
   "nbconvert_exporter": "python",
   "pygments_lexer": "ipython3",
   "version": "3.7.4"
  }
 },
 "nbformat": 4,
 "nbformat_minor": 2
}
