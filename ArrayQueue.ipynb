{
 "cells": [
  {
   "cell_type": "code",
   "execution_count": 1,
   "metadata": {},
   "outputs": [],
   "source": [
    "#  The space usage is O(n), where n is the current number of elements in the queue.\n",
    "#  The time usage is O(1)  for first, is_empty, and len.\n",
    "#                          for enqueue and dequeue are amortized bounds\n",
    "\n",
    "class Empty(Exception):\n",
    "    \"\"\"\n",
    "    Error attempting to access an element from an empty container.\n",
    "    \"\"\"\n",
    "    pass\n",
    "\n",
    "class ArrayQueue:\n",
    "    \"\"\"\n",
    "    FIFO queue implementation using a Python list as underlying storage.\n",
    "    \"\"\"\n",
    "    DEFAULT_CAPACITY = 10  # moderate capacity for all new queues\n",
    "    \n",
    "    def __init__(self):\n",
    "        \"\"\"\n",
    "        initialize your data structure here.\n",
    "        Create an empty queue.\n",
    "        \"\"\"\n",
    "        self.data = [None] * ArrayQueue.DEFAULT_CAPACITY  \n",
    "        self.size = 0\n",
    "        self.front = 0\n",
    "        # The value of None is used to indicate that the Queue will have no maximum value. \n",
    "        # Choosing a numeric value to indicate the maximum value can arbitrarily limit the size.\n",
    "        \n",
    "    def __len__(self) -> int:\n",
    "        \"\"\"\n",
    "        Return the number of elements in the queue.\n",
    "        \"\"\"\n",
    "        return self.size\n",
    "\n",
    "    def is_empty(self) -> bool:\n",
    "        \"\"\"\n",
    "        Return True if the queue is empty.\n",
    "        \"\"\"\n",
    "        return self.size == 0    \n",
    "    \n",
    "    def first(self) -> int:\n",
    "        \"\"\"\n",
    "        Return (but do not remove) the element at the front of the queue.\n",
    "        Raise Empty exception if the queue is empty.\n",
    "        \"\"\"        \n",
    "        if self.is_empty():\n",
    "            raise Empty('Queue is empty')\n",
    "        return self.data[self.front]   \n",
    "    \n",
    "    def dequeue(self) -> int:\n",
    "        \"\"\"\n",
    "        Remove and return the first element of the queue (i.e., FIFO).\n",
    "        Raise Empty exception if the queue is empty.\n",
    "        \"\"\"        \n",
    "        if self.is_empty():\n",
    "            raise Empty('Queue is empty')\n",
    "            \n",
    "        res = self.data[self.front]\n",
    "        self.data[self.front] = None      # help garbage collection\n",
    "        self.front = (self.front + 1) % len(self.data)\n",
    "        self.size -= 1\n",
    "        \n",
    "        if 0 < self.size < len(self.data) // 4:   # shrink yhe underlying array\n",
    "            self.resize(len(self.data) // 2)\n",
    "            \n",
    "        return res   \n",
    "    \n",
    "    def enqueue(self, e: int) -> None:\n",
    "        \"\"\"\n",
    "        Add element e to the back of the queue.\n",
    "        \"\"\"\n",
    "        if self.size == len(self.data):\n",
    "            self.resize(2 * len(self.data))   # double the array size\n",
    "        avail = (self.front + self.size) % len(self.data)\n",
    "        self.data[avail] = e\n",
    "        self.size += 1\n",
    "        \n",
    "    def resize(self, cap: int) -> None:          # we assume cap >= len(self)\n",
    "        \"\"\"\n",
    "        Resize to a new list of capacity >= len(self).\n",
    "        \"\"\"\n",
    "        old = self.data                          # keep track of existing list\n",
    "        self.data = [None] * cap                 # allocate list with new capacity\n",
    "        walk = self.front\n",
    "        for k in range(self.size):               # only consider existing elements\n",
    "            self.data[k] = old[walk]             # intentionally shift indices\n",
    "            walk = (walk + 1) % len(old)         # use old size as modulus\n",
    "        self.front = 0                           # front has been realigned"
   ]
  },
  {
   "cell_type": "code",
   "execution_count": 2,
   "metadata": {},
   "outputs": [],
   "source": [
    "Q = ArrayQueue()"
   ]
  },
  {
   "cell_type": "code",
   "execution_count": 10,
   "metadata": {},
   "outputs": [],
   "source": [
    "Q.enqueue(5) \n",
    "Q.enqueue(3) "
   ]
  },
  {
   "cell_type": "code",
   "execution_count": 11,
   "metadata": {},
   "outputs": [
    {
     "data": {
      "text/plain": [
       "2"
      ]
     },
     "execution_count": 11,
     "metadata": {},
     "output_type": "execute_result"
    }
   ],
   "source": [
    "len(Q)"
   ]
  },
  {
   "cell_type": "code",
   "execution_count": 5,
   "metadata": {},
   "outputs": [
    {
     "data": {
      "text/plain": [
       "5"
      ]
     },
     "execution_count": 5,
     "metadata": {},
     "output_type": "execute_result"
    }
   ],
   "source": [
    "Q.dequeue( )"
   ]
  },
  {
   "cell_type": "code",
   "execution_count": 6,
   "metadata": {},
   "outputs": [
    {
     "data": {
      "text/plain": [
       "False"
      ]
     },
     "execution_count": 6,
     "metadata": {},
     "output_type": "execute_result"
    }
   ],
   "source": [
    "Q.is_empty( )"
   ]
  },
  {
   "cell_type": "code",
   "execution_count": 7,
   "metadata": {},
   "outputs": [
    {
     "data": {
      "text/plain": [
       "3"
      ]
     },
     "execution_count": 7,
     "metadata": {},
     "output_type": "execute_result"
    }
   ],
   "source": [
    "Q.dequeue( )"
   ]
  },
  {
   "cell_type": "code",
   "execution_count": 8,
   "metadata": {},
   "outputs": [
    {
     "data": {
      "text/plain": [
       "True"
      ]
     },
     "execution_count": 8,
     "metadata": {},
     "output_type": "execute_result"
    }
   ],
   "source": [
    "Q.is_empty( )"
   ]
  },
  {
   "cell_type": "code",
   "execution_count": 12,
   "metadata": {},
   "outputs": [
    {
     "data": {
      "text/plain": [
       "5"
      ]
     },
     "execution_count": 12,
     "metadata": {},
     "output_type": "execute_result"
    }
   ],
   "source": [
    "Q.first()"
   ]
  },
  {
   "cell_type": "code",
   "execution_count": 13,
   "metadata": {},
   "outputs": [
    {
     "data": {
      "text/plain": [
       "1"
      ]
     },
     "execution_count": 13,
     "metadata": {},
     "output_type": "execute_result"
    }
   ],
   "source": [
    "1%10"
   ]
  }
 ],
 "metadata": {
  "kernelspec": {
   "display_name": "Python 3",
   "language": "python",
   "name": "python3"
  },
  "language_info": {
   "codemirror_mode": {
    "name": "ipython",
    "version": 3
   },
   "file_extension": ".py",
   "mimetype": "text/x-python",
   "name": "python",
   "nbconvert_exporter": "python",
   "pygments_lexer": "ipython3",
   "version": "3.7.4"
  }
 },
 "nbformat": 4,
 "nbformat_minor": 2
}
