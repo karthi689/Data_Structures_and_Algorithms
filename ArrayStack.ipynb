{
 "cells": [
  {
   "cell_type": "code",
   "execution_count": 1,
   "metadata": {},
   "outputs": [],
   "source": [
    "#  The space usage is O(n), where n is the current number of elements in the stack.\n",
    "#  The time usage is O(1)  for top, is_empty, and len.\n",
    "#                          for push and pop are amortized bounds\n",
    "\n",
    "class Empty(Exception):\n",
    "    \"\"\"\n",
    "    Error attempting to access an element from an empty container.\n",
    "    \"\"\"\n",
    "    pass\n",
    "\n",
    "class ArrayStack:\n",
    "    \"\"\"\n",
    "    LIFO Stack implementation using a Python list as underlying storage.\n",
    "    \"\"\"\n",
    "    \n",
    "    def __init__(self):\n",
    "        \"\"\"\n",
    "        initialize your data structure here.\n",
    "        Create an empty stack.\n",
    "        \"\"\"\n",
    "        self.data = []      # nonpublic list instance\n",
    "        \n",
    "    def __len__(self) -> int:\n",
    "        \"\"\"\n",
    "        Return the number of elements in the stack.\n",
    "        \"\"\"\n",
    "        return len(self.data)\n",
    "\n",
    "    def is_empty(self) -> bool:\n",
    "        \"\"\"\n",
    "        Return True if the stack is empty.\n",
    "        \"\"\"\n",
    "        return len(self.data) == 0\n",
    "    \n",
    "    def push(self, e: int) -> None:\n",
    "        \"\"\"\n",
    "        Add element e to the top of the stack.\n",
    "        \"\"\"\n",
    "        self.data.append(e)    # new item stored at end of list\n",
    "\n",
    "    def top(self) -> int:\n",
    "        \"\"\"\n",
    "        Return (but do not remove) the element at the top of the stack.\n",
    "        Raise Empty exception if the stack is empty.\n",
    "        \"\"\"        \n",
    "        if self.is_empty():\n",
    "            raise Empty('Stack is empty')\n",
    "        return self.data[-1]   \n",
    "    \n",
    "    def pop(self) -> int:\n",
    "        \"\"\"\n",
    "        Remove and return the element from the top of the stack (i.e., LIFO).\n",
    "        Raise Empty exception if the stack is empty.\n",
    "        \"\"\"        \n",
    "        if self.is_empty():\n",
    "            raise Empty('Stack is empty')\n",
    "        return self.data.pop()        "
   ]
  },
  {
   "cell_type": "code",
   "execution_count": 2,
   "metadata": {},
   "outputs": [],
   "source": [
    "S = ArrayStack( )"
   ]
  },
  {
   "cell_type": "code",
   "execution_count": 3,
   "metadata": {},
   "outputs": [],
   "source": [
    "S.push(5)\n",
    "S.push(3)"
   ]
  },
  {
   "cell_type": "code",
   "execution_count": 4,
   "metadata": {},
   "outputs": [
    {
     "data": {
      "text/plain": [
       "2"
      ]
     },
     "execution_count": 4,
     "metadata": {},
     "output_type": "execute_result"
    }
   ],
   "source": [
    "len(S)"
   ]
  },
  {
   "cell_type": "code",
   "execution_count": 5,
   "metadata": {},
   "outputs": [
    {
     "data": {
      "text/plain": [
       "3"
      ]
     },
     "execution_count": 5,
     "metadata": {},
     "output_type": "execute_result"
    }
   ],
   "source": [
    "S.pop( )"
   ]
  },
  {
   "cell_type": "code",
   "execution_count": 6,
   "metadata": {},
   "outputs": [
    {
     "data": {
      "text/plain": [
       "False"
      ]
     },
     "execution_count": 6,
     "metadata": {},
     "output_type": "execute_result"
    }
   ],
   "source": [
    "S.is_empty()"
   ]
  },
  {
   "cell_type": "code",
   "execution_count": 7,
   "metadata": {},
   "outputs": [
    {
     "data": {
      "text/plain": [
       "5"
      ]
     },
     "execution_count": 7,
     "metadata": {},
     "output_type": "execute_result"
    }
   ],
   "source": [
    "S.pop( )"
   ]
  },
  {
   "cell_type": "code",
   "execution_count": 8,
   "metadata": {},
   "outputs": [
    {
     "data": {
      "text/plain": [
       "True"
      ]
     },
     "execution_count": 8,
     "metadata": {},
     "output_type": "execute_result"
    }
   ],
   "source": [
    "S.is_empty()"
   ]
  },
  {
   "cell_type": "code",
   "execution_count": 9,
   "metadata": {},
   "outputs": [
    {
     "data": {
      "text/plain": [
       "6"
      ]
     },
     "execution_count": 9,
     "metadata": {},
     "output_type": "execute_result"
    }
   ],
   "source": [
    "S.push(7)\n",
    "S.push(9)\n",
    "S.push(6)\n",
    "\n",
    "S.top( )"
   ]
  },
  {
   "cell_type": "code",
   "execution_count": 10,
   "metadata": {},
   "outputs": [],
   "source": [
    "def reverse_file(filename):\n",
    "    \"\"\"\n",
    "    Overwrite given file with its contents line-by-line reversed.\n",
    "    \"\"\"    \n",
    "    S = ArrayStack()\n",
    "    \n",
    "    with open(filename, \"r\") as fi:\n",
    "        for line in fi:\n",
    "            S.push(line.rstrip('\\n'))    # we will re-insert new lines when writing\n",
    "        fi.close()\n",
    "        \n",
    "    # now we overwrite with contents in LIFO order \n",
    "    with open(filename, \"w\") as fo:      # reopening file overwrites original\n",
    "        while not S.is_empty( ):\n",
    "            fo.write(S.pop( ) + '\\n')    # re-insert newline characters\n",
    "        fo.close()"
   ]
  },
  {
   "cell_type": "code",
   "execution_count": 11,
   "metadata": {},
   "outputs": [],
   "source": [
    "reverse_file(\"reverse_line.txt\")"
   ]
  },
  {
   "cell_type": "code",
   "execution_count": 12,
   "metadata": {},
   "outputs": [],
   "source": [
    "def reverse_string(filename):\n",
    "    \"\"\"\n",
    "    Overwrite given file with its contents line-by-line reversed.\n",
    "    \"\"\"    \n",
    "    S = ArrayStack()\n",
    "    \n",
    "    with open(filename, \"r\") as fi:\n",
    "        for line in fi:\n",
    "            S.push(line[::-1])    # we will re-insert new character when writing\n",
    "        fi.close()\n",
    "        \n",
    "    # now we overwrite with contents in LIFO order \n",
    "    with open(filename, \"w\") as fo:      # reopening file overwrites original\n",
    "        while not S.is_empty( ):\n",
    "            fo.write(S.pop( ))    # re-insert newline characters\n",
    "        fo.close()"
   ]
  },
  {
   "cell_type": "code",
   "execution_count": 13,
   "metadata": {},
   "outputs": [],
   "source": [
    "reverse_string(\"reverse_text.txt\")"
   ]
  },
  {
   "cell_type": "code",
   "execution_count": 14,
   "metadata": {},
   "outputs": [],
   "source": [
    "# If the length of the original expression is n, the algorithm will make at most n calls to push and n calls to pop\n",
    "# Those calls run in a total of O(n) time, even considering the amortized nature of the O(1) time bound for those methods.\n",
    "def is_matched(expr) -> bool:\n",
    "    \"\"\"\n",
    "    Return True if all delimiters are properly match; False otherwise.\n",
    "    \"\"\" \n",
    "    lefty = '({['               # opening delimiters\n",
    "    righty = ')}]'              # closing delimiters\n",
    "    S = ArrayStack()\n",
    "    \n",
    "    for c in expr:\n",
    "        if c in lefty:\n",
    "            S.push(c)           # push left delimiter on stack\n",
    "        elif c in righty:\n",
    "            if S.is_empty( ):\n",
    "                return False   # nothing to match with\n",
    "            if righty.index(c) != lefty.index(S.pop()):\n",
    "                return False   # mismatched\n",
    "    return S.is_empty( )       # were all symbols matched?           "
   ]
  },
  {
   "cell_type": "code",
   "execution_count": 15,
   "metadata": {},
   "outputs": [
    {
     "data": {
      "text/plain": [
       "True"
      ]
     },
     "execution_count": 15,
     "metadata": {},
     "output_type": "execute_result"
    }
   ],
   "source": [
    "is_matched(\"( )(( )){([( )])}\")"
   ]
  },
  {
   "cell_type": "code",
   "execution_count": 16,
   "metadata": {},
   "outputs": [
    {
     "data": {
      "text/plain": [
       "False"
      ]
     },
     "execution_count": 16,
     "metadata": {},
     "output_type": "execute_result"
    }
   ],
   "source": [
    "is_matched(\"({[])}\")"
   ]
  },
  {
   "cell_type": "code",
   "execution_count": 17,
   "metadata": {},
   "outputs": [],
   "source": [
    "def is_matched_html(raw) -> bool:\n",
    "    \"\"\"\n",
    "    Return True all HTML tags are properly match; False otherwise.\n",
    "    \"\"\" \n",
    "    S = ArrayStack()\n",
    "    \n",
    "    j = raw.find( '<' )             # find first '<' character (if any)\n",
    "    while j != -1:\n",
    "        k = raw.find('>', j + 1)    # find next ’>’ character\n",
    "        \n",
    "        if k == -1:\n",
    "            return False            # invalid tag\n",
    "        tag = raw[j + 1:k]          # strip away < >\n",
    "        \n",
    "        if not tag.startswith('/'): # this is opening tag\n",
    "            S.push(tag) \n",
    "        else:                       # this is closing tag\n",
    "            if S.is_empty():\n",
    "                return False        # nothing to match with\n",
    "            if tag[1:] != S.pop():  \n",
    "                return False        # mismatched delimiter\n",
    "            \n",
    "        j = raw.find('<', k + 1)    # find next '<' character (if any)\n",
    "    return S.is_empty( )             # were all opening tags matched?"
   ]
  },
  {
   "cell_type": "code",
   "execution_count": 18,
   "metadata": {},
   "outputs": [
    {
     "data": {
      "text/plain": [
       "True"
      ]
     },
     "execution_count": 18,
     "metadata": {},
     "output_type": "execute_result"
    }
   ],
   "source": [
    "is_matched_html(\n",
    "                \"<body> </body>\"\n",
    "                )"
   ]
  }
 ],
 "metadata": {
  "kernelspec": {
   "display_name": "Python 3",
   "language": "python",
   "name": "python3"
  },
  "language_info": {
   "codemirror_mode": {
    "name": "ipython",
    "version": 3
   },
   "file_extension": ".py",
   "mimetype": "text/x-python",
   "name": "python",
   "nbconvert_exporter": "python",
   "pygments_lexer": "ipython3",
   "version": "3.7.4"
  }
 },
 "nbformat": 4,
 "nbformat_minor": 2
}
